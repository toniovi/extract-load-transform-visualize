{
 "cells": [
  {
   "cell_type": "code",
   "execution_count": 1,
   "id": "99e9a9f2",
   "metadata": {},
   "outputs": [
    {
     "name": "stdout",
     "output_type": "stream",
     "text": [
      "Tables in the database: [('orders',)]\n",
      "\n",
      "Schema of table 'orders':\n",
      "('id', 'BIGINT', 'YES', None, None, None)\n",
      "('order_datetime', 'TIMESTAMP_NS', 'YES', None, None, None)\n",
      "('order_month', 'TIMESTAMP_NS', 'YES', None, None, None)\n",
      "('first_name', 'VARCHAR', 'YES', None, None, None)\n",
      "('last_name', 'VARCHAR', 'YES', None, None, None)\n",
      "('email', 'VARCHAR', 'YES', None, None, None)\n",
      "('address', 'VARCHAR', 'YES', None, None, None)\n",
      "('state', 'VARCHAR', 'YES', None, None, None)\n",
      "('zipcode', 'BIGINT', 'YES', None, None, None)\n",
      "('item', 'VARCHAR', 'YES', None, None, None)\n",
      "('category', 'VARCHAR', 'YES', None, None, None)\n",
      "('sales', 'DOUBLE', 'YES', None, None, None)\n",
      "('channel', 'VARCHAR', 'YES', None, None, None)\n",
      "('channel_group', 'VARCHAR', 'YES', None, None, None)\n",
      "('channel_month', 'VARCHAR', 'YES', None, None, None)\n"
     ]
    }
   ],
   "source": [
    "import duckdb\n",
    "\n",
    "# Connect to the DuckDB database\n",
    "con = duckdb.connect('needful_things.duckdb')\n",
    "\n",
    "# List all tables in the database\n",
    "tables = con.execute(\"SHOW TABLES\").fetchall()\n",
    "print(\"Tables in the database:\", tables)\n",
    "\n",
    "# Optionally, describe the schema of each table\n",
    "for table in tables:\n",
    "    table_name = table[0]\n",
    "    print(f\"\\nSchema of table '{table_name}':\")\n",
    "    schema = con.execute(f\"DESCRIBE {table_name}\").fetchall()\n",
    "    for column in schema:\n",
    "        print(column)\n",
    "\n"
   ]
  },
  {
   "cell_type": "code",
   "execution_count": 2,
   "id": "ecc863d3",
   "metadata": {},
   "outputs": [
    {
     "name": "stdout",
     "output_type": "stream",
     "text": [
      "   id      order_datetime order_month first_name  last_name  \\\n",
      "0   1 2020-06-08 16:13:42  2020-06-01     Tracey    Coppard   \n",
      "1   2 2019-12-11 07:01:08  2019-12-01     Noland      Kupka   \n",
      "2   3 2020-12-25 03:49:39  2020-12-01      Skell      Wedge   \n",
      "3   4 2021-04-27 01:19:42  2021-04-01     Bordie  Hallworth   \n",
      "4   5 2020-03-19 20:31:11  2020-03-01     Harlen  Hughesdon   \n",
      "\n",
      "                    email                address       state  zipcode  \\\n",
      "0     tcoppard0@ameblo.jp        2 Mosinee Trail   Minnesota    55417   \n",
      "1     nkupka1@samsung.com  840 Cordelia Crossing       Texas    77223   \n",
      "2       swedge2@google.cn      058 Moulton Trail     Florida    32236   \n",
      "3  bhallworth3@usnews.com   66054 Mosinee Circle     Georgia    30245   \n",
      "4     hhughesdon4@icio.us  1 Northfield Junction  California    92822   \n",
      "\n",
      "              item               category   sales       channel channel_group  \\\n",
      "0  Model Racehorse          Sinister Toys   12.35   Google Paid   Paid Search   \n",
      "1       Microscope          Odd Equipment  129.60    Tiktok Ads        Social   \n",
      "2    Baseball Card          Sinister Toys    3.00      Referral      Referral   \n",
      "3   Mystic Pendant     Mysterious Apparel    8.00   Google Paid   Paid Search   \n",
      "4    Running Shoes  Cursed Sporting Goods   55.00  Facebook Ads        Social   \n",
      "\n",
      "            channel_month  \n",
      "0   Google Paid2020-06-01  \n",
      "1    Tiktok Ads2019-12-01  \n",
      "2      Referral2020-12-01  \n",
      "3   Google Paid2021-04-01  \n",
      "4  Facebook Ads2020-03-01  \n"
     ]
    }
   ],
   "source": [
    "table_name = 'orders'\n",
    "# Fetch a sample of data from the table\n",
    "sample_data = con.execute(f\"SELECT * FROM {table_name} LIMIT 5\").fetchdf()\n",
    "print(sample_data)"
   ]
  },
  {
   "cell_type": "code",
   "execution_count": null,
   "id": "09e426dd",
   "metadata": {},
   "outputs": [],
   "source": [
    "# Close the connection\n",
    "con.close()"
   ]
  }
 ],
 "metadata": {
  "kernelspec": {
   "display_name": ".venv",
   "language": "python",
   "name": "python3"
  },
  "language_info": {
   "codemirror_mode": {
    "name": "ipython",
    "version": 3
   },
   "file_extension": ".py",
   "mimetype": "text/x-python",
   "name": "python",
   "nbconvert_exporter": "python",
   "pygments_lexer": "ipython3",
   "version": "3.12.9"
  }
 },
 "nbformat": 4,
 "nbformat_minor": 5
}
