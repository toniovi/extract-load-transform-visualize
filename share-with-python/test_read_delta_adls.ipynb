{
 "cells": [
  {
   "cell_type": "code",
   "execution_count": 1,
   "metadata": {},
   "outputs": [
    {
     "name": "stdout",
     "output_type": "stream",
     "text": [
      "┌───────────┬───────────────────┬──────────────────┬─────────────────────┬───────────────────────────────────────────────┬────────────────────────────────────────────────────┬──────────────────────┐\n",
      "│ actor_id  │ actor_gravatar_id │   actor_login    │ actor_display_login │                   actor_url                   │                  actor_avatar_url                  │      updated_at      │\n",
      "│   int64   │      varchar      │     varchar      │       varchar       │                    varchar                    │                      varchar                       │       varchar        │\n",
      "├───────────┼───────────────────┼──────────────────┼─────────────────────┼───────────────────────────────────────────────┼────────────────────────────────────────────────────┼──────────────────────┤\n",
      "│       772 │                   │ alex             │ alex                │ https://api.github.com/users/alex             │ https://avatars.githubusercontent.com/u/772?       │ 2025-03-12T04:00:17Z │\n",
      "│      3977 │                   │ tmc              │ tmc                 │ https://api.github.com/users/tmc              │ https://avatars.githubusercontent.com/u/3977?      │ 2025-03-12T04:00:34Z │\n",
      "│      4196 │                   │ hadley           │ hadley              │ https://api.github.com/users/hadley           │ https://avatars.githubusercontent.com/u/4196?      │ 2025-03-12T04:00:22Z │\n",
      "│      5518 │                   │ huacnlee         │ huacnlee            │ https://api.github.com/users/huacnlee         │ https://avatars.githubusercontent.com/u/5518?      │ 2025-03-12T04:01:09Z │\n",
      "│      5978 │                   │ brotherlogic     │ brotherlogic        │ https://api.github.com/users/brotherlogic     │ https://avatars.githubusercontent.com/u/5978?      │ 2025-03-12T04:02:12Z │\n",
      "│      7042 │                   │ petertodd        │ petertodd           │ https://api.github.com/users/petertodd        │ https://avatars.githubusercontent.com/u/7042?      │ 2025-03-12T04:02:13Z │\n",
      "│      9332 │                   │ dietmarw         │ dietmarw            │ https://api.github.com/users/dietmarw         │ https://avatars.githubusercontent.com/u/9332?      │ 2025-03-12T04:01:51Z │\n",
      "│     10530 │                   │ papa99do         │ papa99do            │ https://api.github.com/users/papa99do         │ https://avatars.githubusercontent.com/u/10530?     │ 2025-03-12T04:00:15Z │\n",
      "│     23612 │                   │ keremtiryaki     │ keremtiryaki        │ https://api.github.com/users/keremtiryaki     │ https://avatars.githubusercontent.com/u/23612?     │ 2025-03-12T04:01:38Z │\n",
      "│     23811 │                   │ trivoallan       │ trivoallan          │ https://api.github.com/users/trivoallan       │ https://avatars.githubusercontent.com/u/23811?     │ 2025-03-12T04:00:32Z │\n",
      "│       ·   │         ·         │     ·            │     ·               │                    ·                          │                       ·                            │          ·           │\n",
      "│       ·   │         ·         │     ·            │     ·               │                    ·                          │                       ·                            │          ·           │\n",
      "│       ·   │         ·         │     ·            │     ·               │                    ·                          │                       ·                            │          ·           │\n",
      "│ 202892394 │                   │ wawawawawajiao   │ wawawawawajiao      │ https://api.github.com/users/wawawawawajiao   │ https://avatars.githubusercontent.com/u/202892394? │ 2025-03-12T04:02:20Z │\n",
      "│ 202892432 │                   │ SebastianCivil   │ SebastianCivil      │ https://api.github.com/users/SebastianCivil   │ https://avatars.githubusercontent.com/u/202892432? │ 2025-03-12T04:02:12Z │\n",
      "│ 202892447 │                   │ LiemLiemLiem12   │ LiemLiemLiem12      │ https://api.github.com/users/LiemLiemLiem12   │ https://avatars.githubusercontent.com/u/202892447? │ 2025-03-12T04:01:33Z │\n",
      "│ 202892464 │                   │ nutty-rely-scion │ nutty-rely-scion    │ https://api.github.com/users/nutty-rely-scion │ https://avatars.githubusercontent.com/u/202892464? │ 2025-03-12T04:02:13Z │\n",
      "│ 202892482 │                   │ uwoadfz          │ uwoadfz             │ https://api.github.com/users/uwoadfz          │ https://avatars.githubusercontent.com/u/202892482? │ 2025-03-12T04:02:19Z │\n",
      "│ 202892493 │                   │ Aditya-1214      │ Aditya-1214         │ https://api.github.com/users/Aditya-1214      │ https://avatars.githubusercontent.com/u/202892493? │ 2025-03-12T04:02:32Z │\n",
      "│ 202892500 │                   │ karthiiikk       │ karthiiikk          │ https://api.github.com/users/karthiiikk       │ https://avatars.githubusercontent.com/u/202892500? │ 2025-03-12T04:02:11Z │\n",
      "│ 202892507 │                   │ JAY-200511       │ JAY-200511          │ https://api.github.com/users/JAY-200511       │ https://avatars.githubusercontent.com/u/202892507? │ 2025-03-12T04:02:07Z │\n",
      "│ 202892550 │                   │ FSISS            │ FSISS               │ https://api.github.com/users/FSISS            │ https://avatars.githubusercontent.com/u/202892550? │ 2025-03-12T04:02:14Z │\n",
      "│ 202892573 │                   │ wahata254        │ wahata254           │ https://api.github.com/users/wahata254        │ https://avatars.githubusercontent.com/u/202892573? │ 2025-03-12T04:02:26Z │\n",
      "├───────────┴───────────────────┴──────────────────┴─────────────────────┴───────────────────────────────────────────────┴────────────────────────────────────────────────────┴──────────────────────┤\n",
      "│ 4776 rows (20 shown)                                                                                                                                                                     7 columns │\n",
      "└────────────────────────────────────────────────────────────────────────────────────────────────────────────────────────────────────────────────────────────────────────────────────────────────────┘\n",
      "\n"
     ]
    }
   ],
   "source": [
    "import os\n",
    "import duckdb\n",
    "\n",
    "storage_account_name = os.environ[\"DBT_ENV_AZURE_DATALAKE_STORAGE_ACCOUNT\"]\n",
    "\n",
    "duckdb.sql(f\"\"\"\n",
    "    CREATE SECRET (\n",
    "        TYPE azure,\n",
    "        PROVIDER credential_chain,\n",
    "        CHAIN 'cli;env',\n",
    "        ACCOUNT_NAME '{storage_account_name}'\n",
    "    );\n",
    "\"\"\")\n",
    "\n",
    "duckdb.sql(\"\"\"\n",
    "SELECT *\n",
    "FROM delta_scan('az://published-dev/dbt_antonio/publlished_zone_github_data_users')\n",
    "\"\"\").show()\n",
    "\n"
   ]
  },
  {
   "cell_type": "code",
   "execution_count": null,
   "metadata": {},
   "outputs": [],
   "source": []
  }
 ],
 "metadata": {
  "kernelspec": {
   "display_name": ".venv",
   "language": "python",
   "name": "python3"
  },
  "language_info": {
   "codemirror_mode": {
    "name": "ipython",
    "version": 3
   },
   "file_extension": ".py",
   "mimetype": "text/x-python",
   "name": "python",
   "nbconvert_exporter": "python",
   "pygments_lexer": "ipython3",
   "version": "3.12.9"
  }
 },
 "nbformat": 4,
 "nbformat_minor": 2
}
